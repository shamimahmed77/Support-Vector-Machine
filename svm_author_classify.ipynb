{
 "cells": [
  {
   "cell_type": "code",
   "execution_count": 1,
   "metadata": {},
   "outputs": [],
   "source": [
    "import sys\n",
    "from time import time\n",
    "from email_preprocess import preprocess\n",
    "from visualize import plotIt\n",
    "from sklearn.svm import SVC\n",
    "%matplotlib inline"
   ]
  },
  {
   "cell_type": "code",
   "execution_count": 2,
   "metadata": {},
   "outputs": [
    {
     "name": "stdout",
     "output_type": "stream",
     "text": [
      "no. of Chris training emails: 7936\n",
      "no. of Sara training emails: 7884\n"
     ]
    }
   ],
   "source": [
    "features_train, features_test, labels_train, labels_test = preprocess()"
   ]
  },
  {
   "cell_type": "code",
   "execution_count": 3,
   "metadata": {},
   "outputs": [],
   "source": [
    "clf = SVC(kernel=\"linear\")"
   ]
  },
  {
   "cell_type": "code",
   "execution_count": 4,
   "metadata": {},
   "outputs": [
    {
     "name": "stdout",
     "output_type": "stream",
     "text": [
      "training time for SVM: 158.881 s\n"
     ]
    }
   ],
   "source": [
    "t0 = time()\n",
    "clf.fit(features_train,labels_train)\n",
    "print (\"training time for SVM:\", round(time()-t0, 3), \"s\")"
   ]
  },
  {
   "cell_type": "markdown",
   "metadata": {},
   "source": [
    "Training time for Naive Bayes for same data was 1.127 s"
   ]
  },
  {
   "cell_type": "code",
   "execution_count": 5,
   "metadata": {},
   "outputs": [
    {
     "name": "stdout",
     "output_type": "stream",
     "text": [
      "testing time for SVM: 16.738 s\n"
     ]
    }
   ],
   "source": [
    "t1 = time()\n",
    "pred = clf.predict(features_test)\n",
    "print (\"testing time for SVM:\", round(time()-t1, 3), \"s\")"
   ]
  },
  {
   "cell_type": "markdown",
   "metadata": {},
   "source": [
    "Testing time for Naive Bayes for same data was 0.159 s"
   ]
  },
  {
   "cell_type": "code",
   "execution_count": 6,
   "metadata": {},
   "outputs": [
    {
     "name": "stdout",
     "output_type": "stream",
     "text": [
      "98.40728100113766\n"
     ]
    }
   ],
   "source": [
    "from sklearn.metrics import accuracy_score\n",
    "acc = accuracy_score(pred, labels_test)\n",
    "\n",
    "print (acc*100)45"
   ]
  },
  {
   "cell_type": "markdown",
   "metadata": {},
   "source": [
    "Accuracy of Naive Bayes Classifier for same dataset : 97.32650739476678"
   ]
  },
  {
   "cell_type": "markdown",
   "metadata": {},
   "source": [
    "# Applying Speed-Accuracy-TradeOff\n",
    "\n",
    "#### slicing the training dataset to 1/100th"
   ]
  },
  {
   "cell_type": "code",
   "execution_count": 7,
   "metadata": {},
   "outputs": [],
   "source": [
    "features_train_sliced = features_train[:int(len(features_train)/100)] \n",
    "labels_train_sliced = labels_train[:int(len(labels_train)/100)] "
   ]
  },
  {
   "cell_type": "code",
   "execution_count": 8,
   "metadata": {},
   "outputs": [
    {
     "name": "stdout",
     "output_type": "stream",
     "text": [
      "After Speed-Accuracy-TradeOff training time for SVM: 0.116 s\n"
     ]
    }
   ],
   "source": [
    "t0 = time()\n",
    "clf.fit(features_train_sliced,labels_train_sliced)\n",
    "print (\"After Speed-Accuracy-TradeOff training time for SVM:\", round(time()-t0, 3), \"s\")"
   ]
  },
  {
   "cell_type": "code",
   "execution_count": 9,
   "metadata": {},
   "outputs": [
    {
     "name": "stdout",
     "output_type": "stream",
     "text": [
      "After Speed-Accuracy-TradeOff testing time for SVM: 1.006 s\n"
     ]
    }
   ],
   "source": [
    "t1 = time()\n",
    "pred = clf.predict(features_test)\n",
    "print (\"After Speed-Accuracy-TradeOff testing time for SVM:\", round(time()-t1, 3), \"s\")"
   ]
  },
  {
   "cell_type": "code",
   "execution_count": 10,
   "metadata": {},
   "outputs": [
    {
     "name": "stdout",
     "output_type": "stream",
     "text": [
      "After applying Speed-Accuracy-TradeOff accuracy has reduced to: \n",
      "88.45278725824801\n"
     ]
    }
   ],
   "source": [
    "from sklearn.metrics import accuracy_score\n",
    "acc = accuracy_score(pred, labels_test)\n",
    "\n",
    "print (\"After applying Speed-Accuracy-TradeOff accuracy has reduced to: \")\n",
    "print (acc*100)"
   ]
  },
  {
   "cell_type": "markdown",
   "metadata": {},
   "source": [
    "# Checking the accuracy w Speed-Accuracy-Tradeoff and rbf kernel"
   ]
  },
  {
   "cell_type": "code",
   "execution_count": 11,
   "metadata": {},
   "outputs": [],
   "source": [
    "clf = SVC(kernel=\"rbf\")"
   ]
  },
  {
   "cell_type": "code",
   "execution_count": 12,
   "metadata": {},
   "outputs": [
    {
     "name": "stdout",
     "output_type": "stream",
     "text": [
      "After rbf kernel and Speed-Accuracy-TradeOff training time for SVM: 0.124 s\n"
     ]
    }
   ],
   "source": [
    "t0 = time()\n",
    "clf.fit(features_train_sliced,labels_train_sliced)\n",
    "print (\"After rbf kernel and Speed-Accuracy-TradeOff training time for SVM:\", round(time()-t0, 3), \"s\")"
   ]
  },
  {
   "cell_type": "code",
   "execution_count": 13,
   "metadata": {},
   "outputs": [
    {
     "name": "stdout",
     "output_type": "stream",
     "text": [
      "After rbf kernel and Speed-Accuracy-TradeOff testing time for SVM: 1.153 s\n"
     ]
    }
   ],
   "source": [
    "t1 = time()\n",
    "pred = clf.predict(features_test)\n",
    "print (\"After rbf kernel and Speed-Accuracy-TradeOff testing time for SVM:\", round(time()-t1, 3), \"s\")"
   ]
  },
  {
   "cell_type": "code",
   "execution_count": 14,
   "metadata": {},
   "outputs": [
    {
     "name": "stdout",
     "output_type": "stream",
     "text": [
      "After rbf kernel and applying Speed-Accuracy-TradeOff accuracy has reduced to: \n",
      "61.60409556313993\n"
     ]
    }
   ],
   "source": [
    "from sklearn.metrics import accuracy_score\n",
    "acc = accuracy_score(pred, labels_test)\n",
    "\n",
    "print (\"After rbf kernel and applying Speed-Accuracy-TradeOff accuracy has reduced to: \")\n",
    "print (acc*100)"
   ]
  },
  {
   "cell_type": "markdown",
   "metadata": {},
   "source": [
    "# Checking the accuracy w Speed-Accuracy-Tradeoff, rbf kernel, and optimizing param C"
   ]
  },
  {
   "cell_type": "markdown",
   "metadata": {},
   "source": [
    "###### After various iterations, the optimal value of C comes out to be 10000.0 where accuracy increases to about 89%"
   ]
  },
  {
   "cell_type": "code",
   "execution_count": 15,
   "metadata": {},
   "outputs": [],
   "source": [
    "clf = SVC(kernel=\"rbf\", C=10000.0)"
   ]
  },
  {
   "cell_type": "code",
   "execution_count": 16,
   "metadata": {},
   "outputs": [
    {
     "name": "stdout",
     "output_type": "stream",
     "text": [
      "After optimizing C, rbf kernel and Speed-Accuracy-TradeOff training time for SVM: 0.104 s\n"
     ]
    }
   ],
   "source": [
    "t0 = time()\n",
    "clf.fit(features_train_sliced,labels_train_sliced)\n",
    "print (\"After optimizing C, rbf kernel and Speed-Accuracy-TradeOff training time for SVM:\", round(time()-t0, 3), \"s\")"
   ]
  },
  {
   "cell_type": "markdown",
   "metadata": {},
   "source": [
    "###### After optimizing C=10.0, rbf kernel and Speed-Accuracy-TradeOff training time for SVM: 0.124 s\n",
    "###### After optimizing C=100.0, rbf kernel and Speed-Accuracy-TradeOff training time for SVM: 0.124 s\n",
    "###### After optimizing C=1000.0, rbf kernel and Speed-Accuracy-TradeOff training time for SVM: 0.134 s\n",
    "###### After optimizing C=10000.0, rbf kernel and Speed-Accuracy-TradeOff training time for SVM: 0.12 s\n",
    "###### After optimizing C=100000.0, rbf kernel and Speed-Accuracy-TradeOff training time for SVM: 0.117 s"
   ]
  },
  {
   "cell_type": "code",
   "execution_count": 17,
   "metadata": {},
   "outputs": [
    {
     "name": "stdout",
     "output_type": "stream",
     "text": [
      "After optimizing C, rbf kernel and Speed-Accuracy-TradeOff testing time for SVM: 0.909 s\n"
     ]
    }
   ],
   "source": [
    "t1 = time()\n",
    "pred = clf.predict(features_test)\n",
    "print (\"After optimizing C, rbf kernel and Speed-Accuracy-TradeOff testing time for SVM:\", round(time()-t1, 3), \"s\")"
   ]
  },
  {
   "cell_type": "markdown",
   "metadata": {},
   "source": [
    "###### After optimizing C=10.0, rbf kernel and Speed-Accuracy-TradeOff testing time for SVM: 1.137 s\n",
    "###### After optimizing C=100.0, rbf kernel and Speed-Accuracy-TradeOff testing time for SVM: 1.183 s\n",
    "###### After optimizing C=1000.0, rbf kernel and Speed-Accuracy-TradeOff testing time for SVM: 1.153 s\n",
    "###### After optimizing C=10000.0, rbf kernel and Speed-Accuracy-TradeOff testing time for SVM: 0.932 s\n",
    "###### After optimizing C=100000.0, rbf kernel and Speed-Accuracy-TradeOff testing time for SVM: 0.886 s"
   ]
  },
  {
   "cell_type": "code",
   "execution_count": 18,
   "metadata": {},
   "outputs": [
    {
     "name": "stdout",
     "output_type": "stream",
     "text": [
      "After optimizing C, rbf kernel and applying Speed-Accuracy-TradeOff accuracy is: \n",
      "89.24914675767917\n"
     ]
    }
   ],
   "source": [
    "from sklearn.metrics import accuracy_score\n",
    "acc = accuracy_score(pred, labels_test)\n",
    "\n",
    "print (\"After optimizing C, rbf kernel and applying Speed-Accuracy-TradeOff accuracy is: \")\n",
    "print (acc*100)"
   ]
  },
  {
   "cell_type": "markdown",
   "metadata": {},
   "source": [
    "###### After optimizing C=10.0, rbf kernel and applying Speed-Accuracy-TradeOff accuracy is: 61.60409556313993\n",
    "###### After optimizing C=100.0, rbf kernel and applying Speed-Accuracy-TradeOff accuracy is: 61.60409556313993\n",
    "###### After optimizing C=1000.0, rbf kernel and applying Speed-Accuracy-TradeOff accuracy is: 82.13879408418657\n",
    "###### After optimizing C=10000.0, rbf kernel and applying Speed-Accuracy-TradeOff accuracy is: 89.24914675767917\n",
    "###### After optimizing C=100000.0, rbf kernel and applying Speed-Accuracy-TradeOff accuracy is: 86.00682593856655"
   ]
  },
  {
   "cell_type": "markdown",
   "metadata": {},
   "source": [
    "# Checking the accuracy without Speed-Accuracy-Tradeoff, rbf kernel, and optimizing param C "
   ]
  },
  {
   "cell_type": "code",
   "execution_count": 19,
   "metadata": {},
   "outputs": [],
   "source": [
    "clf = SVC(kernel=\"rbf\", C=10000.0)"
   ]
  },
  {
   "cell_type": "code",
   "execution_count": 20,
   "metadata": {},
   "outputs": [
    {
     "name": "stdout",
     "output_type": "stream",
     "text": [
      "After optimizing C, rbf kernel for full dataset training time for SVM: 101.676 s\n"
     ]
    }
   ],
   "source": [
    "t0 = time()\n",
    "clf.fit(features_train,labels_train)\n",
    "print (\"After optimizing C, rbf kernel for full dataset training time for SVM:\", round(time()-t0, 3), \"s\")"
   ]
  },
  {
   "cell_type": "code",
   "execution_count": 21,
   "metadata": {},
   "outputs": [
    {
     "name": "stdout",
     "output_type": "stream",
     "text": [
      "After optimizing C, rbf kernel for full dataset testing time for SVM: 10.591 s\n"
     ]
    }
   ],
   "source": [
    "t1 = time()\n",
    "pred = clf.predict(features_test)\n",
    "print (\"After optimizing C, rbf kernel for full dataset testing time for SVM:\", round(time()-t1, 3), \"s\")"
   ]
  },
  {
   "cell_type": "code",
   "execution_count": 22,
   "metadata": {},
   "outputs": [
    {
     "name": "stdout",
     "output_type": "stream",
     "text": [
      "After optimizing C, rbf kernel for full dataset accuracy is: \n",
      "99.08987485779295\n"
     ]
    }
   ],
   "source": [
    "from sklearn.metrics import accuracy_score\n",
    "acc = accuracy_score(pred, labels_test)\n",
    "\n",
    "print (\"After optimizing C, rbf kernel for full dataset accuracy is: \")\n",
    "print (acc*100)"
   ]
  }
 ],
 "metadata": {
  "kernelspec": {
   "display_name": "Python [conda env:numpy-course]",
   "language": "python",
   "name": "conda-env-numpy-course-py"
  },
  "language_info": {
   "codemirror_mode": {
    "name": "ipython",
    "version": 3
   },
   "file_extension": ".py",
   "mimetype": "text/x-python",
   "name": "python",
   "nbconvert_exporter": "python",
   "pygments_lexer": "ipython3",
   "version": "3.5.6"
  }
 },
 "nbformat": 4,
 "nbformat_minor": 2
}
